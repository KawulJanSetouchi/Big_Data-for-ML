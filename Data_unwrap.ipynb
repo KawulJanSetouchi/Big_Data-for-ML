{
 "cells": [
  {
   "cell_type": "code",
   "execution_count": 1,
   "id": "b17170d7",
   "metadata": {},
   "outputs": [],
   "source": [
    "import pandas as pd\n",
    "import numpy as np"
   ]
  },
  {
   "cell_type": "code",
   "execution_count": 2,
   "id": "d455068d",
   "metadata": {},
   "outputs": [],
   "source": [
    "# predictデータと元データの読込み（result_d：予測データ、compare_d:実際のデータ）\n",
    "result_d = np.load('./result_data.npy')\n",
    "compare_d = np.load('./compare_data.npy')"
   ]
  },
  {
   "cell_type": "code",
   "execution_count": 3,
   "id": "37ed331b",
   "metadata": {},
   "outputs": [
    {
     "data": {
      "text/plain": [
       "array([[[1.38975510e+02, 1.48651285e+01, 1.19334778e+03, ...,\n",
       "         2.97622711e+02, 1.03146423e+03, 4.19153369e+03]],\n",
       "\n",
       "       [[1.80779953e+02, 1.65612602e+01, 1.15923853e+03, ...,\n",
       "         2.87212677e+02, 9.77564819e+02, 3.41468872e+03]],\n",
       "\n",
       "       [[3.10271912e+02, 2.25836620e+01, 1.71223975e+03, ...,\n",
       "         4.98784576e+02, 1.37443091e+03, 4.38990430e+03]],\n",
       "\n",
       "       ...,\n",
       "\n",
       "       [[9.68127014e+02, 1.21051468e+02, 7.62871191e+03, ...,\n",
       "         1.85092944e+03, 6.61561084e+03, 2.55685645e+04]],\n",
       "\n",
       "       [[6.26468628e+02, 7.84770584e+01, 5.08550244e+03, ...,\n",
       "         1.23776575e+03, 4.41549023e+03, 1.73169043e+04]],\n",
       "\n",
       "       [[4.05485107e+02, 5.19304390e+01, 3.55720117e+03, ...,\n",
       "         8.71188904e+02, 3.10105396e+03, 1.25855166e+04]]], dtype=float32)"
      ]
     },
     "execution_count": 3,
     "metadata": {},
     "output_type": "execute_result"
    }
   ],
   "source": [
    "# predictデータの確認\n",
    "result_d"
   ]
  },
  {
   "cell_type": "code",
   "execution_count": 4,
   "id": "edbb6f2a",
   "metadata": {},
   "outputs": [
    {
     "data": {
      "text/plain": [
       "array([[[  172,    15,  1208, ...,   439,  1112,  4229]],\n",
       "\n",
       "       [[  186,    24,  1317, ...,   458,  1250,  3484]],\n",
       "\n",
       "       [[  351,    29,  1971, ...,   768,  1749,  4529]],\n",
       "\n",
       "       ...,\n",
       "\n",
       "       [[  784,    64,  7708, ...,  1372,  6088, 25568]],\n",
       "\n",
       "       [[  485,    35,  4806, ...,  1103,  4146, 17256]],\n",
       "\n",
       "       [[  350,    25,  3459, ...,   761,  2537, 12569]]], dtype=int64)"
      ]
     },
     "execution_count": 4,
     "metadata": {},
     "output_type": "execute_result"
    }
   ],
   "source": [
    "# 元データの確認\n",
    "compare_d"
   ]
  },
  {
   "cell_type": "code",
   "execution_count": 5,
   "id": "90b15051",
   "metadata": {},
   "outputs": [],
   "source": [
    "# listとして取り出す（predictデータ）\n",
    "cnt = 0\n",
    "result_l = []\n",
    "for _ in result_d:\n",
    "    result_l.append(result_d[cnt][0].round().tolist())\n",
    "    cnt += 1"
   ]
  },
  {
   "cell_type": "code",
   "execution_count": null,
   "id": "1883f720",
   "metadata": {},
   "outputs": [],
   "source": []
  },
  {
   "cell_type": "code",
   "execution_count": 6,
   "id": "f7afb0b7",
   "metadata": {},
   "outputs": [],
   "source": [
    "# クリップボードにコピー\n",
    "pddata =pd.DataFrame(result_l).to_clipboard()"
   ]
  },
  {
   "cell_type": "code",
   "execution_count": 7,
   "id": "252629d7",
   "metadata": {},
   "outputs": [],
   "source": [
    "pddata"
   ]
  },
  {
   "cell_type": "code",
   "execution_count": null,
   "id": "6f961edb",
   "metadata": {},
   "outputs": [],
   "source": []
  },
  {
   "cell_type": "code",
   "execution_count": null,
   "id": "8b16a51b",
   "metadata": {},
   "outputs": [],
   "source": []
  },
  {
   "cell_type": "code",
   "execution_count": null,
   "id": "8301bc71",
   "metadata": {},
   "outputs": [],
   "source": []
  },
  {
   "cell_type": "code",
   "execution_count": 8,
   "id": "58117926",
   "metadata": {},
   "outputs": [],
   "source": [
    "# listとして取り出す（元データ）\n",
    "cnt = 0\n",
    "compare_l = []\n",
    "for _ in compare_d:\n",
    "    compare_l.append(compare_d[cnt][0].round().tolist())\n",
    "    cnt += 1"
   ]
  },
  {
   "cell_type": "code",
   "execution_count": 9,
   "id": "c9a6b582",
   "metadata": {},
   "outputs": [],
   "source": [
    "# クリップボードにコピー\n",
    "pd.DataFrame(compare_l).to_clipboard()"
   ]
  },
  {
   "cell_type": "code",
   "execution_count": null,
   "id": "6dea9baa",
   "metadata": {},
   "outputs": [],
   "source": []
  },
  {
   "cell_type": "code",
   "execution_count": null,
   "id": "45802d36",
   "metadata": {},
   "outputs": [],
   "source": []
  },
  {
   "cell_type": "code",
   "execution_count": null,
   "id": "6c9af973",
   "metadata": {},
   "outputs": [],
   "source": []
  }
 ],
 "metadata": {
  "kernelspec": {
   "display_name": "Python 3 (ipykernel)",
   "language": "python",
   "name": "python3"
  },
  "language_info": {
   "codemirror_mode": {
    "name": "ipython",
    "version": 3
   },
   "file_extension": ".py",
   "mimetype": "text/x-python",
   "name": "python",
   "nbconvert_exporter": "python",
   "pygments_lexer": "ipython3",
   "version": "3.11.5"
  }
 },
 "nbformat": 4,
 "nbformat_minor": 5
}
